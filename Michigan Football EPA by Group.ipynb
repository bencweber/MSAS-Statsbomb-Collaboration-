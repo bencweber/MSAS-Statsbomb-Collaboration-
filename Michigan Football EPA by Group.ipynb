{
 "cells": [
  {
   "cell_type": "code",
   "execution_count": 1,
   "id": "37633315",
   "metadata": {},
   "outputs": [],
   "source": [
    "import pandas as pd\n",
    "import numpy as np"
   ]
  },
  {
   "cell_type": "code",
   "execution_count": 2,
   "id": "9bae83b0",
   "metadata": {},
   "outputs": [],
   "source": [
    "pbp = pd.read_csv('UofM 2022 pbp')"
   ]
  },
  {
   "cell_type": "code",
   "execution_count": 3,
   "id": "32910413",
   "metadata": {},
   "outputs": [
    {
     "data": {
      "text/plain": [
       "Index(['Unnamed: 0', 'offense_team_name', 'defense_team_name', 'season',\n",
       "       'week', 'play_uuid', 'game_id', 'drive_uuid', 'play_game_index',\n",
       "       'play_drive_index',\n",
       "       ...\n",
       "       'play_contested_catch_attempt', 'play_pass_made',\n",
       "       'play_yards_after_contact', 'play_target_separation',\n",
       "       'play_pass_placement_displacement', 'play_tackle_types',\n",
       "       'play_catch_separation', 'play_handoff_received', 'play_ep',\n",
       "       'play_scrimmage_epa'],\n",
       "      dtype='object', length=170)"
      ]
     },
     "execution_count": 3,
     "metadata": {},
     "output_type": "execute_result"
    }
   ],
   "source": [
    "pbp.columns"
   ]
  },
  {
   "cell_type": "code",
   "execution_count": 4,
   "id": "faa7fbdb",
   "metadata": {},
   "outputs": [
    {
     "data": {
      "text/plain": [
       "0            NaN\n",
       "1       0.934538\n",
       "2       0.742817\n",
       "3      -0.168654\n",
       "4      -1.635766\n",
       "          ...   \n",
       "2468    1.064821\n",
       "2469    0.849475\n",
       "2470    0.363970\n",
       "2471         NaN\n",
       "2472         NaN\n",
       "Name: play_ep, Length: 2473, dtype: float64"
      ]
     },
     "execution_count": 4,
     "metadata": {},
     "output_type": "execute_result"
    }
   ],
   "source": [
    "pbp['play_ep']"
   ]
  },
  {
   "cell_type": "code",
   "execution_count": 5,
   "id": "4ee53a80",
   "metadata": {},
   "outputs": [
    {
     "data": {
      "text/plain": [
       "0            NaN\n",
       "1      -0.191721\n",
       "2      -0.911471\n",
       "3      -1.467112\n",
       "4       0.782059\n",
       "          ...   \n",
       "2468   -0.215345\n",
       "2469   -0.485506\n",
       "2470   -0.363970\n",
       "2471         NaN\n",
       "2472         NaN\n",
       "Name: play_scrimmage_epa, Length: 2473, dtype: float64"
      ]
     },
     "execution_count": 5,
     "metadata": {},
     "output_type": "execute_result"
    }
   ],
   "source": [
    "pbp['play_scrimmage_epa']"
   ]
  },
  {
   "cell_type": "code",
   "execution_count": 6,
   "id": "fb7b5fcd",
   "metadata": {},
   "outputs": [],
   "source": [
    "pbp = pbp[pbp['offense_team_name'] == 'Michigan Wolverines']"
   ]
  },
  {
   "cell_type": "code",
   "execution_count": 7,
   "id": "0189869d",
   "metadata": {},
   "outputs": [],
   "source": [
    "pbp = pbp[pbp['play_scrimmage_epa'].notna()]"
   ]
  },
  {
   "cell_type": "code",
   "execution_count": 8,
   "id": "5e6e24a2",
   "metadata": {},
   "outputs": [],
   "source": [
    "pbp = pbp[(pbp['play_pass_yards_air'].notna()) | (pbp['play_yards_run'].notna())]"
   ]
  },
  {
   "cell_type": "code",
   "execution_count": 9,
   "id": "4be0c0eb",
   "metadata": {},
   "outputs": [],
   "source": [
    "form_all = {}\n",
    "form_pass = {}\n",
    "form_rush = {}\n",
    "\n",
    "passing = pbp[pbp['play_pass_yards_air'].notna()]\n",
    "rushing = pbp[(pbp['play_run_gap'].notna())]\n",
    "\n",
    "for group, frame in pbp.groupby('play_defensive_personnel'):\n",
    "    avg = round(np.average(frame['play_scrimmage_epa']),4)\n",
    "    num_plays = len(frame)\n",
    "    form_all[group] = [avg, num_plays]\n",
    "    \n",
    "for group, frame in passing.groupby('play_defensive_personnel'):\n",
    "    avg = round(np.average(frame['play_scrimmage_epa']),4)\n",
    "    num_plays = len(frame)\n",
    "    form_pass[group] = [avg, num_plays]\n",
    "    \n",
    "for group, frame in rushing.groupby('play_defensive_personnel'):\n",
    "    avg = round(np.average(frame['play_scrimmage_epa']),4)\n",
    "    num_plays = len(frame)\n",
    "    form_rush[group] = [avg, num_plays]\n",
    "\n",
    "   \n",
    "\n"
   ]
  },
  {
   "cell_type": "code",
   "execution_count": 10,
   "id": "47962a2a",
   "metadata": {},
   "outputs": [
    {
     "data": {
      "text/plain": [
       "{'{\"DB\": 1, \"DL\": 5, \"LB\": 5}': [1.0517, 2],\n",
       " '{\"DB\": 2, \"DL\": 3, \"LB\": 6}': [1.0869, 2],\n",
       " '{\"DB\": 3, \"DL\": 3, \"LB\": 5}': [-0.5322, 2],\n",
       " '{\"DB\": 3, \"DL\": 4, \"LB\": 4}': [0.3207, 17],\n",
       " '{\"DB\": 3, \"DL\": 5, \"LB\": 3}': [0.5307, 5],\n",
       " '{\"DB\": 3, \"DL\": 6, \"LB\": 2}': [-1.446, 1],\n",
       " '{\"DB\": 4, \"DL\": 2, \"LB\": 5}': [1.1268, 1],\n",
       " '{\"DB\": 4, \"DL\": 3, \"LB\": 4}': [-0.0356, 45],\n",
       " '{\"DB\": 4, \"DL\": 4, \"LB\": 3}': [0.4938, 72],\n",
       " '{\"DB\": 4, \"DL\": 5, \"LB\": 2}': [0.4376, 2],\n",
       " '{\"DB\": 4, \"DL\": 5, \"LB\": 3}': [-0.1427, 1],\n",
       " '{\"DB\": 5, \"DL\": 3, \"LB\": 3}': [0.1879, 35],\n",
       " '{\"DB\": 5, \"DL\": 4, \"LB\": 2}': [0.2785, 94],\n",
       " '{\"DB\": 6, \"DL\": 2, \"LB\": 3}': [-0.5875, 1],\n",
       " '{\"DB\": 6, \"DL\": 3, \"LB\": 2}': [-0.6389, 1]}"
      ]
     },
     "execution_count": 10,
     "metadata": {},
     "output_type": "execute_result"
    }
   ],
   "source": [
    "form_rush"
   ]
  },
  {
   "cell_type": "code",
   "execution_count": 11,
   "id": "6cc3cb9d",
   "metadata": {},
   "outputs": [
    {
     "data": {
      "text/plain": [
       "{'{\"DB\": 2, \"DL\": 5, \"LB\": 4}': [1.5162, 1],\n",
       " '{\"DB\": 3, \"DL\": 3, \"LB\": 5}': [-0.55, 2],\n",
       " '{\"DB\": 3, \"DL\": 4, \"LB\": 4}': [0.277, 7],\n",
       " '{\"DB\": 3, \"DL\": 5, \"LB\": 3}': [2.0757, 3],\n",
       " '{\"DB\": 4, \"DL\": 3, \"LB\": 4}': [0.6104, 62],\n",
       " '{\"DB\": 4, \"DL\": 4, \"LB\": 3}': [0.1493, 50],\n",
       " '{\"DB\": 5, \"DL\": 2, \"LB\": 4}': [0.3155, 7],\n",
       " '{\"DB\": 5, \"DL\": 3, \"LB\": 3}': [0.1268, 73],\n",
       " '{\"DB\": 5, \"DL\": 4, \"LB\": 2}': [0.239, 133],\n",
       " '{\"DB\": 6, \"DL\": 1, \"LB\": 4}': [0.0693, 13],\n",
       " '{\"DB\": 6, \"DL\": 2, \"LB\": 3}': [0.3552, 3],\n",
       " '{\"DB\": 6, \"DL\": 3, \"LB\": 2}': [1.1703, 7],\n",
       " '{\"DB\": 7, \"DL\": 3, \"LB\": 1}': [-0.3968, 7]}"
      ]
     },
     "execution_count": 11,
     "metadata": {},
     "output_type": "execute_result"
    }
   ],
   "source": [
    "form_pass"
   ]
  },
  {
   "cell_type": "code",
   "execution_count": 24,
   "id": "b568217c",
   "metadata": {},
   "outputs": [],
   "source": [
    "epa_rush = {}\n",
    "for key, value in form_rush.items():\n",
    "    if value[1] >= 20:\n",
    "        epa_rush[key] = value\n",
    "        \n",
    "        \n",
    "        "
   ]
  },
  {
   "cell_type": "code",
   "execution_count": 25,
   "id": "7db8b4f9",
   "metadata": {},
   "outputs": [
    {
     "data": {
      "text/plain": [
       "{'{\"DB\": 4, \"DL\": 3, \"LB\": 4}': [-0.0356, 45],\n",
       " '{\"DB\": 4, \"DL\": 4, \"LB\": 3}': [0.4938, 72],\n",
       " '{\"DB\": 5, \"DL\": 3, \"LB\": 3}': [0.1879, 35],\n",
       " '{\"DB\": 5, \"DL\": 4, \"LB\": 2}': [0.2785, 94]}"
      ]
     },
     "execution_count": 25,
     "metadata": {},
     "output_type": "execute_result"
    }
   ],
   "source": [
    "epa_rush"
   ]
  },
  {
   "cell_type": "code",
   "execution_count": 22,
   "id": "40fb5e14",
   "metadata": {},
   "outputs": [],
   "source": [
    "epa_pass = {}\n",
    "for key, value in form_pass.items():\n",
    "    if value[1] >= 20:\n",
    "        epa_pass[key] = value"
   ]
  },
  {
   "cell_type": "code",
   "execution_count": 23,
   "id": "2a0dca2e",
   "metadata": {},
   "outputs": [
    {
     "data": {
      "text/plain": [
       "{'{\"DB\": 4, \"DL\": 3, \"LB\": 4}': [0.6104, 62],\n",
       " '{\"DB\": 4, \"DL\": 4, \"LB\": 3}': [0.1493, 50],\n",
       " '{\"DB\": 5, \"DL\": 3, \"LB\": 3}': [0.1268, 73],\n",
       " '{\"DB\": 5, \"DL\": 4, \"LB\": 2}': [0.239, 133]}"
      ]
     },
     "execution_count": 23,
     "metadata": {},
     "output_type": "execute_result"
    }
   ],
   "source": [
    "epa_pass"
   ]
  },
  {
   "cell_type": "code",
   "execution_count": 16,
   "id": "a88cfff2",
   "metadata": {},
   "outputs": [],
   "source": [
    "success_rush = {}\n",
    "success_pass = {}\n",
    "\n",
    "for group, frame in rushing.groupby('play_defensive_personnel'):\n",
    "    counter = 0\n",
    "    num_plays = len(frame)\n",
    "    for value in frame['play_success']:\n",
    "        if (value == True):\n",
    "            counter = counter + 1\n",
    "    percentage = round(counter / num_plays, 4)\n",
    "    success_rush[group] = [percentage, num_plays]\n",
    "    \n"
   ]
  },
  {
   "cell_type": "code",
   "execution_count": 17,
   "id": "e113cede",
   "metadata": {},
   "outputs": [
    {
     "data": {
      "text/plain": [
       "{'{\"DB\": 1, \"DL\": 5, \"LB\": 5}': [0.5, 2],\n",
       " '{\"DB\": 2, \"DL\": 3, \"LB\": 6}': [0.5, 2],\n",
       " '{\"DB\": 3, \"DL\": 3, \"LB\": 5}': [0.0, 2],\n",
       " '{\"DB\": 3, \"DL\": 4, \"LB\": 4}': [0.6471, 17],\n",
       " '{\"DB\": 3, \"DL\": 5, \"LB\": 3}': [0.8, 5],\n",
       " '{\"DB\": 3, \"DL\": 6, \"LB\": 2}': [0.0, 1],\n",
       " '{\"DB\": 4, \"DL\": 2, \"LB\": 5}': [1.0, 1],\n",
       " '{\"DB\": 4, \"DL\": 3, \"LB\": 4}': [0.5778, 45],\n",
       " '{\"DB\": 4, \"DL\": 4, \"LB\": 3}': [0.7361, 72],\n",
       " '{\"DB\": 4, \"DL\": 5, \"LB\": 2}': [1.0, 2],\n",
       " '{\"DB\": 4, \"DL\": 5, \"LB\": 3}': [1.0, 1],\n",
       " '{\"DB\": 5, \"DL\": 3, \"LB\": 3}': [0.4286, 35],\n",
       " '{\"DB\": 5, \"DL\": 4, \"LB\": 2}': [0.6383, 94],\n",
       " '{\"DB\": 6, \"DL\": 2, \"LB\": 3}': [0.0, 1],\n",
       " '{\"DB\": 6, \"DL\": 3, \"LB\": 2}': [0.0, 1]}"
      ]
     },
     "execution_count": 17,
     "metadata": {},
     "output_type": "execute_result"
    }
   ],
   "source": [
    "success_rush"
   ]
  },
  {
   "cell_type": "code",
   "execution_count": 18,
   "id": "728a200d",
   "metadata": {},
   "outputs": [],
   "source": [
    "for group, frame in passing.groupby('play_defensive_personnel'):\n",
    "    counter = 0\n",
    "    num_plays = len(frame)\n",
    "    for value in frame['play_success']:\n",
    "        if (value == True):\n",
    "            counter = counter + 1\n",
    "    percentage = round(counter / num_plays, 4)\n",
    "    success_pass[group] = [percentage, num_plays]"
   ]
  },
  {
   "cell_type": "code",
   "execution_count": 19,
   "id": "af7db0a3",
   "metadata": {},
   "outputs": [
    {
     "data": {
      "text/plain": [
       "{'{\"DB\": 2, \"DL\": 5, \"LB\": 4}': [0.0, 1],\n",
       " '{\"DB\": 3, \"DL\": 3, \"LB\": 5}': [0.0, 2],\n",
       " '{\"DB\": 3, \"DL\": 4, \"LB\": 4}': [0.5714, 7],\n",
       " '{\"DB\": 3, \"DL\": 5, \"LB\": 3}': [1.0, 3],\n",
       " '{\"DB\": 4, \"DL\": 3, \"LB\": 4}': [0.6774, 62],\n",
       " '{\"DB\": 4, \"DL\": 4, \"LB\": 3}': [0.62, 50],\n",
       " '{\"DB\": 5, \"DL\": 2, \"LB\": 4}': [0.5714, 7],\n",
       " '{\"DB\": 5, \"DL\": 3, \"LB\": 3}': [0.5479, 73],\n",
       " '{\"DB\": 5, \"DL\": 4, \"LB\": 2}': [0.4436, 133],\n",
       " '{\"DB\": 6, \"DL\": 1, \"LB\": 4}': [0.3077, 13],\n",
       " '{\"DB\": 6, \"DL\": 2, \"LB\": 3}': [0.6667, 3],\n",
       " '{\"DB\": 6, \"DL\": 3, \"LB\": 2}': [0.2857, 7],\n",
       " '{\"DB\": 7, \"DL\": 3, \"LB\": 1}': [0.1429, 7]}"
      ]
     },
     "execution_count": 19,
     "metadata": {},
     "output_type": "execute_result"
    }
   ],
   "source": [
    "success_pass"
   ]
  },
  {
   "cell_type": "code",
   "execution_count": 26,
   "id": "dbe2c739",
   "metadata": {},
   "outputs": [
    {
     "data": {
      "text/plain": [
       "{'{\"DB\": 4, \"DL\": 3, \"LB\": 4}': [0.5778, 45],\n",
       " '{\"DB\": 4, \"DL\": 4, \"LB\": 3}': [0.7361, 72],\n",
       " '{\"DB\": 5, \"DL\": 3, \"LB\": 3}': [0.4286, 35],\n",
       " '{\"DB\": 5, \"DL\": 4, \"LB\": 2}': [0.6383, 94]}"
      ]
     },
     "execution_count": 26,
     "metadata": {},
     "output_type": "execute_result"
    }
   ],
   "source": [
    "sr_rush = {}\n",
    "for key, value in success_rush.items():\n",
    "    if value[1] >= 20:\n",
    "        sr_rush[key] = value\n",
    "sr_rush"
   ]
  },
  {
   "cell_type": "code",
   "execution_count": 27,
   "id": "4247e0fd",
   "metadata": {},
   "outputs": [
    {
     "data": {
      "text/plain": [
       "{'{\"DB\": 4, \"DL\": 3, \"LB\": 4}': [0.6774, 62],\n",
       " '{\"DB\": 4, \"DL\": 4, \"LB\": 3}': [0.62, 50],\n",
       " '{\"DB\": 5, \"DL\": 3, \"LB\": 3}': [0.5479, 73],\n",
       " '{\"DB\": 5, \"DL\": 4, \"LB\": 2}': [0.4436, 133]}"
      ]
     },
     "execution_count": 27,
     "metadata": {},
     "output_type": "execute_result"
    }
   ],
   "source": [
    "sr_pass = {}\n",
    "for key, value in success_pass.items():\n",
    "    if value[1] >= 20:\n",
    "        sr_pass[key] = value\n",
    "sr_pass"
   ]
  },
  {
   "cell_type": "code",
   "execution_count": 28,
   "id": "b8184a5b",
   "metadata": {},
   "outputs": [
    {
     "data": {
      "text/plain": [
       "{'{\"DB\": 4, \"DL\": 3, \"LB\": 4}': [-0.0356, 45],\n",
       " '{\"DB\": 4, \"DL\": 4, \"LB\": 3}': [0.4938, 72],\n",
       " '{\"DB\": 5, \"DL\": 3, \"LB\": 3}': [0.1879, 35],\n",
       " '{\"DB\": 5, \"DL\": 4, \"LB\": 2}': [0.2785, 94]}"
      ]
     },
     "execution_count": 28,
     "metadata": {},
     "output_type": "execute_result"
    }
   ],
   "source": [
    "epa_rush"
   ]
  },
  {
   "cell_type": "code",
   "execution_count": 33,
   "id": "1165ff66",
   "metadata": {},
   "outputs": [
    {
     "data": {
      "text/plain": [
       "{'{\"DB\": 4, \"DL\": 3, \"LB\": 4}': [0.6104, 62],\n",
       " '{\"DB\": 4, \"DL\": 4, \"LB\": 3}': [0.1493, 50],\n",
       " '{\"DB\": 5, \"DL\": 3, \"LB\": 3}': [0.1268, 73],\n",
       " '{\"DB\": 5, \"DL\": 4, \"LB\": 2}': [0.239, 133]}"
      ]
     },
     "execution_count": 33,
     "metadata": {},
     "output_type": "execute_result"
    }
   ],
   "source": [
    "epa_pass"
   ]
  },
  {
   "cell_type": "code",
   "execution_count": 30,
   "id": "81cf2984",
   "metadata": {},
   "outputs": [
    {
     "name": "stdout",
     "output_type": "stream",
     "text": [
      "Collecting prettytable\n",
      "  Downloading prettytable-3.9.0-py3-none-any.whl (27 kB)\n",
      "Requirement already satisfied: wcwidth in c:\\users\\bwebe\\anaconda3\\lib\\site-packages (from prettytable) (0.2.5)\n",
      "Installing collected packages: prettytable\n",
      "Successfully installed prettytable-3.9.0\n",
      "Note: you may need to restart the kernel to use updated packages.\n"
     ]
    }
   ],
   "source": [
    "pip install prettytable"
   ]
  },
  {
   "cell_type": "code",
   "execution_count": 37,
   "id": "23b59a2f",
   "metadata": {},
   "outputs": [],
   "source": [
    "from prettytable import PrettyTable"
   ]
  },
  {
   "cell_type": "code",
   "execution_count": 43,
   "id": "ef401085",
   "metadata": {
    "scrolled": true
   },
   "outputs": [
    {
     "name": "stdout",
     "output_type": "stream",
     "text": [
      "+----------------------+----------+----------+------------+------------+\n",
      "|     Measurement      | 3-4 Base | 4-3 Base | 3-3 Nickel | 4-2 Nickel |\n",
      "+----------------------+----------+----------+------------+------------+\n",
      "|     Rushing EPA      | -0.0356  |  0.4938  |   0.1879   |   0.2785   |\n",
      "| Rushing Success Rate |  0.5778  |  0.7361  |   0.4286   |   0.6383   |\n",
      "|     Passing EPA      |  0.6104  |  0.1493  |   0.1268   |   0.239    |\n",
      "| Passing Success Rate |  0.6774  |   0.62   |   0.5479   |   0.4436   |\n",
      "+----------------------+----------+----------+------------+------------+\n"
     ]
    }
   ],
   "source": [
    "myTable = PrettyTable(['Measurement','3-4 Base', '4-3 Base'\n",
    "                       , '3-3 Nickel', '4-2 Nickel']) \n",
    " \n",
    "# Add rows \n",
    "myTable.add_row([\"Rushing EPA\", epa_rush['{\"DB\": 4, \"DL\": 3, \"LB\": 4}'][0], epa_rush['{\"DB\": 4, \"DL\": 4, \"LB\": 3}'][0]\n",
    "                 , epa_rush['{\"DB\": 5, \"DL\": 3, \"LB\": 3}'][0], epa_rush['{\"DB\": 5, \"DL\": 4, \"LB\": 2}'][0]]) \n",
    "myTable.add_row([\"Rushing Success Rate\", sr_rush['{\"DB\": 4, \"DL\": 3, \"LB\": 4}'][0], sr_rush['{\"DB\": 4, \"DL\": 4, \"LB\": 3}'][0]\n",
    "                 , sr_rush['{\"DB\": 5, \"DL\": 3, \"LB\": 3}'][0], sr_rush['{\"DB\": 5, \"DL\": 4, \"LB\": 2}'][0]]) \n",
    "myTable.add_row([\"Passing EPA\", epa_pass['{\"DB\": 4, \"DL\": 3, \"LB\": 4}'][0], epa_pass['{\"DB\": 4, \"DL\": 4, \"LB\": 3}'][0]\n",
    "                 , epa_pass['{\"DB\": 5, \"DL\": 3, \"LB\": 3}'][0], epa_pass['{\"DB\": 5, \"DL\": 4, \"LB\": 2}'][0]]) \n",
    "myTable.add_row([\"Passing Success Rate\", sr_pass['{\"DB\": 4, \"DL\": 3, \"LB\": 4}'][0], sr_pass['{\"DB\": 4, \"DL\": 4, \"LB\": 3}'][0]\n",
    "                 , sr_pass['{\"DB\": 5, \"DL\": 3, \"LB\": 3}'][0], sr_pass['{\"DB\": 5, \"DL\": 4, \"LB\": 2}'][0]]) \n",
    "\n",
    " \n",
    "print(myTable)"
   ]
  },
  {
   "cell_type": "code",
   "execution_count": null,
   "id": "20842899",
   "metadata": {},
   "outputs": [],
   "source": []
  }
 ],
 "metadata": {
  "kernelspec": {
   "display_name": "Python 3 (ipykernel)",
   "language": "python",
   "name": "python3"
  },
  "language_info": {
   "codemirror_mode": {
    "name": "ipython",
    "version": 3
   },
   "file_extension": ".py",
   "mimetype": "text/x-python",
   "name": "python",
   "nbconvert_exporter": "python",
   "pygments_lexer": "ipython3",
   "version": "3.9.12"
  }
 },
 "nbformat": 4,
 "nbformat_minor": 5
}
